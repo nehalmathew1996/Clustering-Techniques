{
 "cells": [
  {
   "cell_type": "markdown",
   "id": "5aa687c5",
   "metadata": {},
   "source": [
    "# K-Means Clustering\n",
    "\n",
    "k-means clustering is a method of vector quantization, originally from signal processing, that aims to partition n observations into k clusters in which each observation belongs to the cluster with the nearest mean, serving as a prototype of the cluster.\n",
    "\n",
    "Advantages of k-means:\n",
    "\n",
    "- Relatively simple to implement.\n",
    "\n",
    "- Scales to large data sets.\n",
    "\n",
    "- Guarantees convergence.\n",
    "\n",
    "- Can warm-start the positions of centroids.\n",
    "\n",
    "- Easily adapts to new examples.\n",
    "\n",
    "- Generalizes to clusters of different shapes and sizes, such as elliptical clusters.\n",
    "\n",
    "Disadvantage of Kmeans : \n",
    "\n",
    "- Choosing K Manually\n",
    "- Being Dependent on initial values\n",
    "- Clustering Outliers\n",
    "- Scaling with number of diensions\n"
   ]
  },
  {
   "cell_type": "markdown",
   "id": "0ccafe58",
   "metadata": {},
   "source": [
    "## Importing Libraries"
   ]
  },
  {
   "cell_type": "code",
   "execution_count": 32,
   "id": "e4debbbd",
   "metadata": {},
   "outputs": [],
   "source": [
    "import pandas as pd \n",
    "import numpy as np\n",
    "import matplotlib.pyplot as plt\n",
    "\n",
    "from sklearn.preprocessing import StandardScaler\n",
    "\n",
    "from sklearn.cluster import KMeans\n",
    "\n",
    "from sklearn.metrics import silhouette_score"
   ]
  },
  {
   "cell_type": "markdown",
   "id": "e3fb7e4e",
   "metadata": {},
   "source": [
    "## Read Data  "
   ]
  },
  {
   "cell_type": "code",
   "execution_count": 5,
   "id": "1aa405dd",
   "metadata": {
    "scrolled": true
   },
   "outputs": [
    {
     "data": {
      "text/html": [
       "<div>\n",
       "<style scoped>\n",
       "    .dataframe tbody tr th:only-of-type {\n",
       "        vertical-align: middle;\n",
       "    }\n",
       "\n",
       "    .dataframe tbody tr th {\n",
       "        vertical-align: top;\n",
       "    }\n",
       "\n",
       "    .dataframe thead th {\n",
       "        text-align: right;\n",
       "    }\n",
       "</style>\n",
       "<table border=\"1\" class=\"dataframe\">\n",
       "  <thead>\n",
       "    <tr style=\"text-align: right;\">\n",
       "      <th></th>\n",
       "      <th>Cust_Number</th>\n",
       "      <th>Yearly_Income</th>\n",
       "      <th>Age</th>\n",
       "      <th>Cust_Spend_Score</th>\n",
       "      <th>Sex</th>\n",
       "    </tr>\n",
       "  </thead>\n",
       "  <tbody>\n",
       "    <tr>\n",
       "      <th>0</th>\n",
       "      <td>CUSTID1</td>\n",
       "      <td>15000</td>\n",
       "      <td>18</td>\n",
       "      <td>44</td>\n",
       "      <td>0</td>\n",
       "    </tr>\n",
       "    <tr>\n",
       "      <th>1</th>\n",
       "      <td>CUSTID2</td>\n",
       "      <td>15000</td>\n",
       "      <td>18</td>\n",
       "      <td>79</td>\n",
       "      <td>0</td>\n",
       "    </tr>\n",
       "    <tr>\n",
       "      <th>2</th>\n",
       "      <td>CUSTID3</td>\n",
       "      <td>16000</td>\n",
       "      <td>23</td>\n",
       "      <td>8</td>\n",
       "      <td>1</td>\n",
       "    </tr>\n",
       "    <tr>\n",
       "      <th>3</th>\n",
       "      <td>CUSTID4</td>\n",
       "      <td>16000</td>\n",
       "      <td>25</td>\n",
       "      <td>79</td>\n",
       "      <td>1</td>\n",
       "    </tr>\n",
       "    <tr>\n",
       "      <th>4</th>\n",
       "      <td>CUSTID5</td>\n",
       "      <td>17000</td>\n",
       "      <td>32</td>\n",
       "      <td>41</td>\n",
       "      <td>1</td>\n",
       "    </tr>\n",
       "  </tbody>\n",
       "</table>\n",
       "</div>"
      ],
      "text/plain": [
       "  Cust_Number  Yearly_Income  Age  Cust_Spend_Score  Sex\n",
       "0     CUSTID1          15000   18                44    0\n",
       "1     CUSTID2          15000   18                79    0\n",
       "2     CUSTID3          16000   23                 8    1\n",
       "3     CUSTID4          16000   25                79    1\n",
       "4     CUSTID5          17000   32                41    1"
      ]
     },
     "execution_count": 5,
     "metadata": {},
     "output_type": "execute_result"
    }
   ],
   "source": [
    "data=pd.read_csv('C:/Users/nehal/Music/9.Machine Learning 3/Faculty Notebook/customer.csv')\n",
    "data.head()"
   ]
  },
  {
   "cell_type": "markdown",
   "id": "96ae543d",
   "metadata": {},
   "source": [
    "### Checking Data Types"
   ]
  },
  {
   "cell_type": "code",
   "execution_count": 6,
   "id": "a7dd767a",
   "metadata": {
    "scrolled": true
   },
   "outputs": [
    {
     "data": {
      "text/plain": [
       "Cust_Number         object\n",
       "Yearly_Income        int64\n",
       "Age                  int64\n",
       "Cust_Spend_Score     int64\n",
       "Sex                  int64\n",
       "dtype: object"
      ]
     },
     "execution_count": 6,
     "metadata": {},
     "output_type": "execute_result"
    }
   ],
   "source": [
    "data.dtypes"
   ]
  },
  {
   "cell_type": "markdown",
   "id": "8f1b1705",
   "metadata": {},
   "source": [
    "### Removing Insignificant Variables"
   ]
  },
  {
   "cell_type": "code",
   "execution_count": 8,
   "id": "3212ba3d",
   "metadata": {},
   "outputs": [],
   "source": [
    "data.drop('Cust_Number',axis=1,inplace=True)"
   ]
  },
  {
   "cell_type": "code",
   "execution_count": 9,
   "id": "95118792",
   "metadata": {},
   "outputs": [
    {
     "data": {
      "text/html": [
       "<div>\n",
       "<style scoped>\n",
       "    .dataframe tbody tr th:only-of-type {\n",
       "        vertical-align: middle;\n",
       "    }\n",
       "\n",
       "    .dataframe tbody tr th {\n",
       "        vertical-align: top;\n",
       "    }\n",
       "\n",
       "    .dataframe thead th {\n",
       "        text-align: right;\n",
       "    }\n",
       "</style>\n",
       "<table border=\"1\" class=\"dataframe\">\n",
       "  <thead>\n",
       "    <tr style=\"text-align: right;\">\n",
       "      <th></th>\n",
       "      <th>Yearly_Income</th>\n",
       "      <th>Age</th>\n",
       "      <th>Cust_Spend_Score</th>\n",
       "      <th>Sex</th>\n",
       "    </tr>\n",
       "  </thead>\n",
       "  <tbody>\n",
       "    <tr>\n",
       "      <th>0</th>\n",
       "      <td>15000</td>\n",
       "      <td>18</td>\n",
       "      <td>44</td>\n",
       "      <td>0</td>\n",
       "    </tr>\n",
       "    <tr>\n",
       "      <th>1</th>\n",
       "      <td>15000</td>\n",
       "      <td>18</td>\n",
       "      <td>79</td>\n",
       "      <td>0</td>\n",
       "    </tr>\n",
       "    <tr>\n",
       "      <th>2</th>\n",
       "      <td>16000</td>\n",
       "      <td>23</td>\n",
       "      <td>8</td>\n",
       "      <td>1</td>\n",
       "    </tr>\n",
       "    <tr>\n",
       "      <th>3</th>\n",
       "      <td>16000</td>\n",
       "      <td>25</td>\n",
       "      <td>79</td>\n",
       "      <td>1</td>\n",
       "    </tr>\n",
       "    <tr>\n",
       "      <th>4</th>\n",
       "      <td>17000</td>\n",
       "      <td>32</td>\n",
       "      <td>41</td>\n",
       "      <td>1</td>\n",
       "    </tr>\n",
       "  </tbody>\n",
       "</table>\n",
       "</div>"
      ],
      "text/plain": [
       "   Yearly_Income  Age  Cust_Spend_Score  Sex\n",
       "0          15000   18                44    0\n",
       "1          15000   18                79    0\n",
       "2          16000   23                 8    1\n",
       "3          16000   25                79    1\n",
       "4          17000   32                41    1"
      ]
     },
     "execution_count": 9,
     "metadata": {},
     "output_type": "execute_result"
    }
   ],
   "source": [
    "data.head()"
   ]
  },
  {
   "cell_type": "markdown",
   "id": "f040e43a",
   "metadata": {},
   "source": [
    "### Outlier analysis and treatment"
   ]
  },
  {
   "cell_type": "code",
   "execution_count": 11,
   "id": "a25e43e9",
   "metadata": {},
   "outputs": [
    {
     "data": {
      "text/plain": [
       "<AxesSubplot:>"
      ]
     },
     "execution_count": 11,
     "metadata": {},
     "output_type": "execute_result"
    },
    {
     "data": {
      "image/png": "[encoded data removed]",
      "text/plain": [
       "<Figure size 432x288 with 1 Axes>"
      ]
     },
     "metadata": {
      "needs_background": "light"
     },
     "output_type": "display_data"
    }
   ],
   "source": [
    "data.boxplot()"
   ]
  },
  {
   "cell_type": "code",
   "execution_count": 13,
   "id": "5f800d50",
   "metadata": {},
   "outputs": [
    {
     "data": {
      "text/plain": [
       "<AxesSubplot:>"
      ]
     },
     "execution_count": 13,
     "metadata": {},
     "output_type": "execute_result"
    },
    {
     "data": {
      "image/png": "[encoded data removed]",
      "text/plain": [
       "<Figure size 432x288 with 1 Axes>"
      ]
     },
     "metadata": {
      "needs_background": "light"
     },
     "output_type": "display_data"
    }
   ],
   "source": [
    "q1=data.quantile(0.25)\n",
    "q3=data.quantile(0.75)\n",
    "IQR=q3-q1\n",
    "\n",
    "df=data[~((data<(q1-(1.5*IQR))) | (data>(q3+(1.5*IQR)))).any(axis=1)]\n",
    "df.boxplot()"
   ]
  },
  {
   "cell_type": "code",
   "execution_count": 14,
   "id": "c27f80c7",
   "metadata": {},
   "outputs": [
    {
     "data": {
      "text/plain": [
       "Yearly_Income       0\n",
       "Age                 0\n",
       "Cust_Spend_Score    0\n",
       "Sex                 0\n",
       "dtype: int64"
      ]
     },
     "execution_count": 14,
     "metadata": {},
     "output_type": "execute_result"
    }
   ],
   "source": [
    "# Missing Value Treatment\n",
    "data.isnull().sum()"
   ]
  },
  {
   "cell_type": "code",
   "execution_count": 16,
   "id": "21ab33ad",
   "metadata": {},
   "outputs": [],
   "source": [
    "# Scaling\n",
    "from sklearn.preprocessing import StandardScaler\n",
    "scale=StandardScaler()"
   ]
  },
  {
   "cell_type": "code",
   "execution_count": 18,
   "id": "ba9a3b97",
   "metadata": {},
   "outputs": [
    {
     "data": {
      "text/html": [
       "<div>\n",
       "<style scoped>\n",
       "    .dataframe tbody tr th:only-of-type {\n",
       "        vertical-align: middle;\n",
       "    }\n",
       "\n",
       "    .dataframe tbody tr th {\n",
       "        vertical-align: top;\n",
       "    }\n",
       "\n",
       "    .dataframe thead th {\n",
       "        text-align: right;\n",
       "    }\n",
       "</style>\n",
       "<table border=\"1\" class=\"dataframe\">\n",
       "  <thead>\n",
       "    <tr style=\"text-align: right;\">\n",
       "      <th></th>\n",
       "      <th>Yearly_Income</th>\n",
       "      <th>Age</th>\n",
       "      <th>Cust_Spend_Score</th>\n",
       "      <th>Sex</th>\n",
       "    </tr>\n",
       "  </thead>\n",
       "  <tbody>\n",
       "    <tr>\n",
       "      <th>0</th>\n",
       "      <td>-1.779171</td>\n",
       "      <td>-1.503384</td>\n",
       "      <td>-0.283684</td>\n",
       "      <td>-1.141195</td>\n",
       "    </tr>\n",
       "    <tr>\n",
       "      <th>1</th>\n",
       "      <td>-1.779171</td>\n",
       "      <td>-1.503384</td>\n",
       "      <td>1.068399</td>\n",
       "      <td>-1.141195</td>\n",
       "    </tr>\n",
       "    <tr>\n",
       "      <th>2</th>\n",
       "      <td>-1.739447</td>\n",
       "      <td>-1.148593</td>\n",
       "      <td>-1.674398</td>\n",
       "      <td>0.876275</td>\n",
       "    </tr>\n",
       "    <tr>\n",
       "      <th>3</th>\n",
       "      <td>-1.739447</td>\n",
       "      <td>-1.006676</td>\n",
       "      <td>1.068399</td>\n",
       "      <td>0.876275</td>\n",
       "    </tr>\n",
       "    <tr>\n",
       "      <th>4</th>\n",
       "      <td>-1.699723</td>\n",
       "      <td>-0.509968</td>\n",
       "      <td>-0.399577</td>\n",
       "      <td>0.876275</td>\n",
       "    </tr>\n",
       "  </tbody>\n",
       "</table>\n",
       "</div>"
      ],
      "text/plain": [
       "   Yearly_Income       Age  Cust_Spend_Score       Sex\n",
       "0      -1.779171 -1.503384         -0.283684 -1.141195\n",
       "1      -1.779171 -1.503384          1.068399 -1.141195\n",
       "2      -1.739447 -1.148593         -1.674398  0.876275\n",
       "3      -1.739447 -1.006676          1.068399  0.876275\n",
       "4      -1.699723 -0.509968         -0.399577  0.876275"
      ]
     },
     "execution_count": 18,
     "metadata": {},
     "output_type": "execute_result"
    }
   ],
   "source": [
    "df_scaled=pd.DataFrame(scale.fit_transform(df),columns=df.columns)\n",
    "df_scaled.head()"
   ]
  },
  {
   "cell_type": "code",
   "execution_count": 22,
   "id": "b278e744",
   "metadata": {},
   "outputs": [],
   "source": [
    "# Clutering\n",
    "from sklearn.cluster import KMeans\n",
    "import matplotlib.pyplot as plt"
   ]
  },
  {
   "cell_type": "markdown",
   "id": "8a33cb46",
   "metadata": {},
   "source": [
    "## Elbow Plot"
   ]
  },
  {
   "cell_type": "code",
   "execution_count": 28,
   "id": "700cdbcb",
   "metadata": {},
   "outputs": [
    {
     "data": {
      "text/plain": [
       "<matplotlib.lines.Line2D at 0x27e04384048>"
      ]
     },
     "execution_count": 28,
     "metadata": {},
     "output_type": "execute_result"
    },
    {
     "data": {
      "image/png": "[encoded data removed]",
      "text/plain": [
       "<Figure size 432x288 with 1 Axes>"
      ]
     },
     "metadata": {
      "needs_background": "light"
     },
     "output_type": "display_data"
    }
   ],
   "source": [
    "\n",
    "wcss=[]\n",
    "for i in range(2,21):\n",
    "    model=KMeans(i,random_state=5)\n",
    "    model.fit(df_scaled)\n",
    "    \n",
    "    wcss.append(model.inertia_)\n",
    "    \n",
    "plt.plot(range(2,21),wcss)\n",
    "plt.axvline(8,color='red')"
   ]
  },
  {
   "cell_type": "markdown",
   "id": "326851c7",
   "metadata": {},
   "source": [
    "## Silhouette Score\n",
    "The Silhouette score can also be used to identify the optimal number of clusters. We plot the Silhouette score for different values of K. The K with the highest Silhouette score represents the optimal value for the number of clusters (K)."
   ]
  },
  {
   "cell_type": "code",
   "execution_count": 42,
   "id": "43430b57",
   "metadata": {},
   "outputs": [
    {
     "name": "stdout",
     "output_type": "stream",
     "text": [
      "2 - 0.24909882529732422\n",
      "3 - 0.2567882435850623\n",
      "4 - 0.2901446710089679\n",
      "5 - 0.31472981457171617\n",
      "6 - 0.3328119997703432\n",
      "7 - 0.3602421296487236\n",
      "8 - 0.39020650213938873\n",
      "9 - 0.3994076582213406\n",
      "10 - 0.42251401737432315\n",
      "11 - 0.43166429980090903\n",
      "12 - 0.4201400980017394\n",
      "13 - 0.43057612260449507\n",
      "14 - 0.42098657207985957\n",
      "15 - 0.41633746896854956\n",
      "16 - 0.41403135288707515\n",
      "17 - 0.4097373097655924\n"
     ]
    }
   ],
   "source": [
    "n_clusters=range(2,18)\n",
    "score=[]\n",
    "for k in n_clusters:\n",
    "    cluster=KMeans(n_clusters=k,random_state=10)\n",
    "    predict=cluster.fit_predict(df_scaled)\n",
    "    score.append(silhouette_score(df_scaled,predict,random_state=10))\n",
    "for x in range(0,16):\n",
    "    print(x+2,\"-\",score[x])"
   ]
  },
  {
   "cell_type": "code",
   "execution_count": 55,
   "id": "ad149796",
   "metadata": {
    "scrolled": true
   },
   "outputs": [
    {
     "name": "stdout",
     "output_type": "stream",
     "text": [
      "1    42\n",
      "4    38\n",
      "0    37\n",
      "5    29\n",
      "3    29\n",
      "2    23\n",
      "Name: label, dtype: int64\n"
     ]
    },
    {
     "data": {
      "text/plain": [
       "<BarContainer object of 6 artists>"
      ]
     },
     "execution_count": 55,
     "metadata": {},
     "output_type": "execute_result"
    },
    {
     "data": {
      "image/png": "[encoded data removed]",
      "text/plain": [
       "<Figure size 432x288 with 1 Axes>"
      ]
     },
     "metadata": {
      "needs_background": "light"
     },
     "output_type": "display_data"
    }
   ],
   "source": [
    "model=KMeans(n_clusters=6,random_state=10).fit(df_scaled)\n",
    "class_labels=model.predict(df_scaled)\n",
    "df_scaled['label']=class_labels\n",
    "\n",
    "print(df_scaled['label'].value_counts())\n",
    "\n",
    "plt.bar(df_scaled['label'].value_counts().index,df_scaled['label'].value_counts())"
   ]
  },
  {
   "cell_type": "code",
   "execution_count": null,
   "id": "7c9b9661",
   "metadata": {},
   "outputs": [],
   "source": []
  },
  {
   "cell_type": "code",
   "execution_count": null,
   "id": "b51d61a3",
   "metadata": {},
   "outputs": [],
   "source": []
  }
 ],
 "metadata": {
  "kernelspec": {
   "display_name": "Python 3",
   "language": "python",
   "name": "python3"
  },
  "language_info": {
   "codemirror_mode": {
    "name": "ipython",
    "version": 3
   },
   "file_extension": ".py",
   "mimetype": "text/x-python",
   "name": "python",
   "nbconvert_exporter": "python",
   "pygments_lexer": "ipython3",
   "version": "3.6.13"
  }
 },
 "nbformat": 4,
 "nbformat_minor": 5
}
