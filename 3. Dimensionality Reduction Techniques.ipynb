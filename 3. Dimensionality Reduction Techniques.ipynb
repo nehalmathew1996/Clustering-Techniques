{
 "cells": [
  {
   "cell_type": "markdown",
   "id": "023a1e6b",
   "metadata": {},
   "source": [
    "## Importing Header Files"
   ]
  },
  {
   "cell_type": "code",
   "execution_count": 1,
   "id": "dac516a8",
   "metadata": {},
   "outputs": [],
   "source": [
    "import pandas as pd\n",
    "import numpy as np\n",
    "import matplotlib.pyplot as plt\n",
    "import seaborn as sns\n",
    "\n",
    "from sklearn import datasets\n",
    "\n",
    "from sklearn.decomposition import PCA\n",
    "\n",
    "\n"
   ]
  },
  {
   "cell_type": "markdown",
   "id": "dddbc894",
   "metadata": {},
   "source": [
    "## Reading Data"
   ]
  },
  {
   "cell_type": "code",
   "execution_count": 2,
   "id": "4c337ea9",
   "metadata": {},
   "outputs": [
    {
     "data": {
      "text/html": [
       "<div>\n",
       "<style scoped>\n",
       "    .dataframe tbody tr th:only-of-type {\n",
       "        vertical-align: middle;\n",
       "    }\n",
       "\n",
       "    .dataframe tbody tr th {\n",
       "        vertical-align: top;\n",
       "    }\n",
       "\n",
       "    .dataframe thead th {\n",
       "        text-align: right;\n",
       "    }\n",
       "</style>\n",
       "<table border=\"1\" class=\"dataframe\">\n",
       "  <thead>\n",
       "    <tr style=\"text-align: right;\">\n",
       "      <th></th>\n",
       "      <th>Credit Score</th>\n",
       "      <th>Bank balance</th>\n",
       "      <th>Loan_amaount</th>\n",
       "      <th>Percentage_paid</th>\n",
       "      <th>User_Relibility score</th>\n",
       "      <th>Age</th>\n",
       "      <th>HouseOwner</th>\n",
       "      <th>LoanInterest</th>\n",
       "      <th>Salary</th>\n",
       "      <th>EnquiryResponse</th>\n",
       "      <th>Risk</th>\n",
       "    </tr>\n",
       "  </thead>\n",
       "  <tbody>\n",
       "    <tr>\n",
       "      <th>0</th>\n",
       "      <td>122</td>\n",
       "      <td>90</td>\n",
       "      <td>220</td>\n",
       "      <td>49.7</td>\n",
       "      <td>0.325</td>\n",
       "      <td>31</td>\n",
       "      <td>1</td>\n",
       "      <td>4.5</td>\n",
       "      <td>140</td>\n",
       "      <td>0</td>\n",
       "      <td>1</td>\n",
       "    </tr>\n",
       "    <tr>\n",
       "      <th>1</th>\n",
       "      <td>163</td>\n",
       "      <td>72</td>\n",
       "      <td>0</td>\n",
       "      <td>39.0</td>\n",
       "      <td>1.222</td>\n",
       "      <td>33</td>\n",
       "      <td>0</td>\n",
       "      <td>4.4</td>\n",
       "      <td>136</td>\n",
       "      <td>1</td>\n",
       "      <td>1</td>\n",
       "    </tr>\n",
       "    <tr>\n",
       "      <th>2</th>\n",
       "      <td>151</td>\n",
       "      <td>60</td>\n",
       "      <td>0</td>\n",
       "      <td>26.1</td>\n",
       "      <td>0.179</td>\n",
       "      <td>22</td>\n",
       "      <td>1</td>\n",
       "      <td>4.2</td>\n",
       "      <td>132</td>\n",
       "      <td>0</td>\n",
       "      <td>0</td>\n",
       "    </tr>\n",
       "    <tr>\n",
       "      <th>3</th>\n",
       "      <td>125</td>\n",
       "      <td>96</td>\n",
       "      <td>0</td>\n",
       "      <td>22.5</td>\n",
       "      <td>0.262</td>\n",
       "      <td>21</td>\n",
       "      <td>0</td>\n",
       "      <td>5.9</td>\n",
       "      <td>139</td>\n",
       "      <td>1</td>\n",
       "      <td>0</td>\n",
       "    </tr>\n",
       "    <tr>\n",
       "      <th>4</th>\n",
       "      <td>81</td>\n",
       "      <td>72</td>\n",
       "      <td>40</td>\n",
       "      <td>26.6</td>\n",
       "      <td>0.283</td>\n",
       "      <td>24</td>\n",
       "      <td>0</td>\n",
       "      <td>3.4</td>\n",
       "      <td>141</td>\n",
       "      <td>1</td>\n",
       "      <td>0</td>\n",
       "    </tr>\n",
       "  </tbody>\n",
       "</table>\n",
       "</div>"
      ],
      "text/plain": [
       "   Credit Score  Bank balance  Loan_amaount  Percentage_paid  \\\n",
       "0           122            90           220             49.7   \n",
       "1           163            72             0             39.0   \n",
       "2           151            60             0             26.1   \n",
       "3           125            96             0             22.5   \n",
       "4            81            72            40             26.6   \n",
       "\n",
       "   User_Relibility score  Age  HouseOwner  LoanInterest  Salary  \\\n",
       "0                  0.325   31           1           4.5     140   \n",
       "1                  1.222   33           0           4.4     136   \n",
       "2                  0.179   22           1           4.2     132   \n",
       "3                  0.262   21           0           5.9     139   \n",
       "4                  0.283   24           0           3.4     141   \n",
       "\n",
       "   EnquiryResponse  Risk  \n",
       "0                0     1  \n",
       "1                1     1  \n",
       "2                0     0  \n",
       "3                1     0  \n",
       "4                1     0  "
      ]
     },
     "execution_count": 2,
     "metadata": {},
     "output_type": "execute_result"
    }
   ],
   "source": [
    "data=pd.read_csv('C:\\\\Users\\\\nehal\\\\Music\\\\9.Machine Learning 3\\\\Take Home\\\\Day3- Takehome-1\\\\S3_Takehome\\\\Risk.csv')\n",
    "data.head()"
   ]
  },
  {
   "cell_type": "markdown",
   "id": "375da228",
   "metadata": {},
   "source": [
    "## Data Types"
   ]
  },
  {
   "cell_type": "code",
   "execution_count": 3,
   "id": "d42ede5b",
   "metadata": {
    "scrolled": true
   },
   "outputs": [
    {
     "data": {
      "text/plain": [
       "Credit Score               int64\n",
       "Bank balance               int64\n",
       "Loan_amaount               int64\n",
       "Percentage_paid          float64\n",
       "User_Relibility score    float64\n",
       "Age                        int64\n",
       "HouseOwner                 int64\n",
       "LoanInterest             float64\n",
       "Salary                     int64\n",
       "EnquiryResponse            int64\n",
       "Risk                       int64\n",
       "dtype: object"
      ]
     },
     "execution_count": 3,
     "metadata": {},
     "output_type": "execute_result"
    }
   ],
   "source": [
    "data.dtypes"
   ]
  },
  {
   "cell_type": "markdown",
   "id": "9f0ae46b",
   "metadata": {},
   "source": [
    "## Checking For Missing Values"
   ]
  },
  {
   "cell_type": "code",
   "execution_count": 4,
   "id": "60ff257f",
   "metadata": {
    "scrolled": true
   },
   "outputs": [
    {
     "data": {
      "text/plain": [
       "Credit Score             0\n",
       "Bank balance             0\n",
       "Loan_amaount             0\n",
       "Percentage_paid          0\n",
       "User_Relibility score    0\n",
       "Age                      0\n",
       "HouseOwner               0\n",
       "LoanInterest             0\n",
       "Salary                   0\n",
       "EnquiryResponse          0\n",
       "Risk                     0\n",
       "dtype: int64"
      ]
     },
     "execution_count": 4,
     "metadata": {},
     "output_type": "execute_result"
    }
   ],
   "source": [
    "data.isnull().sum()"
   ]
  },
  {
   "cell_type": "markdown",
   "id": "c95b1a58",
   "metadata": {},
   "source": [
    "## Segregating data"
   ]
  },
  {
   "cell_type": "code",
   "execution_count": 5,
   "id": "d95e7b40",
   "metadata": {},
   "outputs": [],
   "source": [
    "x=data.drop('Risk',axis=1)\n",
    "y=data['Risk']"
   ]
  },
  {
   "cell_type": "code",
   "execution_count": 6,
   "id": "0ebb8d5f",
   "metadata": {},
   "outputs": [
    {
     "data": {
      "text/html": [
       "<div>\n",
       "<style scoped>\n",
       "    .dataframe tbody tr th:only-of-type {\n",
       "        vertical-align: middle;\n",
       "    }\n",
       "\n",
       "    .dataframe tbody tr th {\n",
       "        vertical-align: top;\n",
       "    }\n",
       "\n",
       "    .dataframe thead th {\n",
       "        text-align: right;\n",
       "    }\n",
       "</style>\n",
       "<table border=\"1\" class=\"dataframe\">\n",
       "  <thead>\n",
       "    <tr style=\"text-align: right;\">\n",
       "      <th></th>\n",
       "      <th>Credit Score</th>\n",
       "      <th>Bank balance</th>\n",
       "      <th>Loan_amaount</th>\n",
       "      <th>Percentage_paid</th>\n",
       "      <th>User_Relibility score</th>\n",
       "      <th>Age</th>\n",
       "      <th>HouseOwner</th>\n",
       "      <th>LoanInterest</th>\n",
       "      <th>Salary</th>\n",
       "      <th>EnquiryResponse</th>\n",
       "    </tr>\n",
       "  </thead>\n",
       "  <tbody>\n",
       "    <tr>\n",
       "      <th>0</th>\n",
       "      <td>122</td>\n",
       "      <td>90</td>\n",
       "      <td>220</td>\n",
       "      <td>49.7</td>\n",
       "      <td>0.325</td>\n",
       "      <td>31</td>\n",
       "      <td>1</td>\n",
       "      <td>4.5</td>\n",
       "      <td>140</td>\n",
       "      <td>0</td>\n",
       "    </tr>\n",
       "    <tr>\n",
       "      <th>1</th>\n",
       "      <td>163</td>\n",
       "      <td>72</td>\n",
       "      <td>0</td>\n",
       "      <td>39.0</td>\n",
       "      <td>1.222</td>\n",
       "      <td>33</td>\n",
       "      <td>0</td>\n",
       "      <td>4.4</td>\n",
       "      <td>136</td>\n",
       "      <td>1</td>\n",
       "    </tr>\n",
       "    <tr>\n",
       "      <th>2</th>\n",
       "      <td>151</td>\n",
       "      <td>60</td>\n",
       "      <td>0</td>\n",
       "      <td>26.1</td>\n",
       "      <td>0.179</td>\n",
       "      <td>22</td>\n",
       "      <td>1</td>\n",
       "      <td>4.2</td>\n",
       "      <td>132</td>\n",
       "      <td>0</td>\n",
       "    </tr>\n",
       "    <tr>\n",
       "      <th>3</th>\n",
       "      <td>125</td>\n",
       "      <td>96</td>\n",
       "      <td>0</td>\n",
       "      <td>22.5</td>\n",
       "      <td>0.262</td>\n",
       "      <td>21</td>\n",
       "      <td>0</td>\n",
       "      <td>5.9</td>\n",
       "      <td>139</td>\n",
       "      <td>1</td>\n",
       "    </tr>\n",
       "    <tr>\n",
       "      <th>4</th>\n",
       "      <td>81</td>\n",
       "      <td>72</td>\n",
       "      <td>40</td>\n",
       "      <td>26.6</td>\n",
       "      <td>0.283</td>\n",
       "      <td>24</td>\n",
       "      <td>0</td>\n",
       "      <td>3.4</td>\n",
       "      <td>141</td>\n",
       "      <td>1</td>\n",
       "    </tr>\n",
       "  </tbody>\n",
       "</table>\n",
       "</div>"
      ],
      "text/plain": [
       "   Credit Score  Bank balance  Loan_amaount  Percentage_paid  \\\n",
       "0           122            90           220             49.7   \n",
       "1           163            72             0             39.0   \n",
       "2           151            60             0             26.1   \n",
       "3           125            96             0             22.5   \n",
       "4            81            72            40             26.6   \n",
       "\n",
       "   User_Relibility score  Age  HouseOwner  LoanInterest  Salary  \\\n",
       "0                  0.325   31           1           4.5     140   \n",
       "1                  1.222   33           0           4.4     136   \n",
       "2                  0.179   22           1           4.2     132   \n",
       "3                  0.262   21           0           5.9     139   \n",
       "4                  0.283   24           0           3.4     141   \n",
       "\n",
       "   EnquiryResponse  \n",
       "0                0  \n",
       "1                1  \n",
       "2                0  \n",
       "3                1  \n",
       "4                1  "
      ]
     },
     "execution_count": 6,
     "metadata": {},
     "output_type": "execute_result"
    }
   ],
   "source": [
    "x.head()"
   ]
  },
  {
   "cell_type": "markdown",
   "id": "bd654d66",
   "metadata": {},
   "source": [
    "## Scaling"
   ]
  },
  {
   "cell_type": "code",
   "execution_count": 7,
   "id": "c8801987",
   "metadata": {},
   "outputs": [
    {
     "data": {
      "text/html": [
       "<div>\n",
       "<style scoped>\n",
       "    .dataframe tbody tr th:only-of-type {\n",
       "        vertical-align: middle;\n",
       "    }\n",
       "\n",
       "    .dataframe tbody tr th {\n",
       "        vertical-align: top;\n",
       "    }\n",
       "\n",
       "    .dataframe thead th {\n",
       "        text-align: right;\n",
       "    }\n",
       "</style>\n",
       "<table border=\"1\" class=\"dataframe\">\n",
       "  <thead>\n",
       "    <tr style=\"text-align: right;\">\n",
       "      <th></th>\n",
       "      <th>Credit Score</th>\n",
       "      <th>Bank balance</th>\n",
       "      <th>Loan_amaount</th>\n",
       "      <th>Percentage_paid</th>\n",
       "      <th>User_Relibility score</th>\n",
       "      <th>Age</th>\n",
       "      <th>HouseOwner</th>\n",
       "      <th>LoanInterest</th>\n",
       "      <th>Salary</th>\n",
       "      <th>EnquiryResponse</th>\n",
       "    </tr>\n",
       "  </thead>\n",
       "  <tbody>\n",
       "    <tr>\n",
       "      <th>0</th>\n",
       "      <td>0.028960</td>\n",
       "      <td>1.086656</td>\n",
       "      <td>1.203945</td>\n",
       "      <td>2.244277</td>\n",
       "      <td>-0.448807</td>\n",
       "      <td>-0.184551</td>\n",
       "      <td>0.976741</td>\n",
       "      <td>-0.089519</td>\n",
       "      <td>-0.335666</td>\n",
       "      <td>-0.993550</td>\n",
       "    </tr>\n",
       "    <tr>\n",
       "      <th>1</th>\n",
       "      <td>1.310982</td>\n",
       "      <td>0.149197</td>\n",
       "      <td>-0.693449</td>\n",
       "      <td>0.884558</td>\n",
       "      <td>2.255319</td>\n",
       "      <td>-0.013577</td>\n",
       "      <td>-1.023813</td>\n",
       "      <td>-0.208412</td>\n",
       "      <td>-0.863541</td>\n",
       "      <td>1.006492</td>\n",
       "    </tr>\n",
       "    <tr>\n",
       "      <th>2</th>\n",
       "      <td>0.935756</td>\n",
       "      <td>-0.475776</td>\n",
       "      <td>-0.693449</td>\n",
       "      <td>-0.754730</td>\n",
       "      <td>-0.888944</td>\n",
       "      <td>-0.953934</td>\n",
       "      <td>0.976741</td>\n",
       "      <td>-0.446198</td>\n",
       "      <td>-1.391416</td>\n",
       "      <td>-0.993550</td>\n",
       "    </tr>\n",
       "    <tr>\n",
       "      <th>3</th>\n",
       "      <td>0.122767</td>\n",
       "      <td>1.399142</td>\n",
       "      <td>-0.693449</td>\n",
       "      <td>-1.212206</td>\n",
       "      <td>-0.638729</td>\n",
       "      <td>-1.039421</td>\n",
       "      <td>-1.023813</td>\n",
       "      <td>1.574982</td>\n",
       "      <td>-0.467635</td>\n",
       "      <td>1.006492</td>\n",
       "    </tr>\n",
       "    <tr>\n",
       "      <th>4</th>\n",
       "      <td>-1.253061</td>\n",
       "      <td>0.149197</td>\n",
       "      <td>-0.348469</td>\n",
       "      <td>-0.691192</td>\n",
       "      <td>-0.575422</td>\n",
       "      <td>-0.782960</td>\n",
       "      <td>-1.023813</td>\n",
       "      <td>-1.397342</td>\n",
       "      <td>-0.203698</td>\n",
       "      <td>1.006492</td>\n",
       "    </tr>\n",
       "  </tbody>\n",
       "</table>\n",
       "</div>"
      ],
      "text/plain": [
       "   Credit Score  Bank balance  Loan_amaount  Percentage_paid  \\\n",
       "0      0.028960      1.086656      1.203945         2.244277   \n",
       "1      1.310982      0.149197     -0.693449         0.884558   \n",
       "2      0.935756     -0.475776     -0.693449        -0.754730   \n",
       "3      0.122767      1.399142     -0.693449        -1.212206   \n",
       "4     -1.253061      0.149197     -0.348469        -0.691192   \n",
       "\n",
       "   User_Relibility score       Age  HouseOwner  LoanInterest    Salary  \\\n",
       "0              -0.448807 -0.184551    0.976741     -0.089519 -0.335666   \n",
       "1               2.255319 -0.013577   -1.023813     -0.208412 -0.863541   \n",
       "2              -0.888944 -0.953934    0.976741     -0.446198 -1.391416   \n",
       "3              -0.638729 -1.039421   -1.023813      1.574982 -0.467635   \n",
       "4              -0.575422 -0.782960   -1.023813     -1.397342 -0.203698   \n",
       "\n",
       "   EnquiryResponse  \n",
       "0        -0.993550  \n",
       "1         1.006492  \n",
       "2        -0.993550  \n",
       "3         1.006492  \n",
       "4         1.006492  "
      ]
     },
     "execution_count": 7,
     "metadata": {},
     "output_type": "execute_result"
    }
   ],
   "source": [
    "from sklearn.preprocessing import StandardScaler\n",
    "\n",
    "scale=StandardScaler()\n",
    "x_scaled=pd.DataFrame(scale.fit_transform(x),columns=x.columns)\n",
    "x_scaled.head()"
   ]
  },
  {
   "cell_type": "markdown",
   "id": "035f1c89",
   "metadata": {},
   "source": [
    "## Train Test Split"
   ]
  },
  {
   "cell_type": "code",
   "execution_count": 8,
   "id": "199c0a44",
   "metadata": {},
   "outputs": [],
   "source": [
    "from sklearn.model_selection import train_test_split\n",
    "x_train,x_test,y_train,y_test=train_test_split(x_scaled,y)"
   ]
  },
  {
   "cell_type": "markdown",
   "id": "88fd4680",
   "metadata": {},
   "source": [
    "## Accuracy Metrics"
   ]
  },
  {
   "cell_type": "code",
   "execution_count": 9,
   "id": "fecda6dc",
   "metadata": {},
   "outputs": [],
   "source": [
    "from sklearn.metrics import confusion_matrix,accuracy_score,roc_auc_score\n",
    "\n",
    "def train_metrics(model,pred,y_train):\n",
    "    \n",
    "    sns.heatmap(confusion_matrix(pred,y_train),annot=True)\n",
    "    print('Accuracy Score:',accuracy_score(pred,y_train))\n",
    "    print('roc_auc_score:',roc_auc_score(pred,y_train))\n",
    "    \n",
    "\n",
    "def test_metrics(model,pred,y_test):\n",
    "    \n",
    "    sns.heatmap(confusion_matrix(pred,y_test),annot=True)\n",
    "    print('Accuracy Score:',accuracy_score(pred,y_test))\n",
    "    print('roc_auc_score:',roc_auc_score(pred,y_test))"
   ]
  },
  {
   "cell_type": "markdown",
   "id": "627ea87e",
   "metadata": {},
   "source": [
    "## Random Forest Model"
   ]
  },
  {
   "cell_type": "code",
   "execution_count": 10,
   "id": "37c145ca",
   "metadata": {
    "scrolled": true
   },
   "outputs": [
    {
     "name": "stdout",
     "output_type": "stream",
     "text": [
      "Accuracy Score: 0.9992156862745099\n",
      "roc_auc_score: 0.9991392259784975\n"
     ]
    },
    {
     "data": {
      "image/png": "[encoded data removed]",
      "text/plain": [
       "<Figure size 432x288 with 2 Axes>"
      ]
     },
     "metadata": {
      "needs_background": "light"
     },
     "output_type": "display_data"
    }
   ],
   "source": [
    "from sklearn.ensemble import RandomForestClassifier\n",
    "\n",
    "model=RandomForestClassifier(n_estimators=10)\n",
    "model.fit(x_train,y_train)\n",
    "\n",
    "pred=model.predict(x_train)\n",
    "train_metrics(model,pred,y_train)"
   ]
  },
  {
   "cell_type": "code",
   "execution_count": 11,
   "id": "21fea7ce",
   "metadata": {},
   "outputs": [
    {
     "name": "stdout",
     "output_type": "stream",
     "text": [
      "Accuracy Score: 0.9776470588235294\n",
      "roc_auc_score: 0.9781575235871998\n"
     ]
    },
    {
     "data": {
      "image/png": "[encoded data removed]",
      "text/plain": [
       "<Figure size 432x288 with 2 Axes>"
      ]
     },
     "metadata": {
      "needs_background": "light"
     },
     "output_type": "display_data"
    }
   ],
   "source": [
    "pred=model.predict(x_test)\n",
    "test_metrics(model,pred,y_test)"
   ]
  },
  {
   "cell_type": "code",
   "execution_count": null,
   "id": "ffa59187",
   "metadata": {},
   "outputs": [],
   "source": []
  },
  {
   "cell_type": "code",
   "execution_count": null,
   "id": "22345b4a",
   "metadata": {},
   "outputs": [],
   "source": []
  },
  {
   "attachments": {
    "image.png": {
     "image/png": "[encoded data removed]"
    }
   },
   "cell_type": "markdown",
   "id": "8d9ab8e5",
   "metadata": {},
   "source": [
    "# PCA\n",
    "\n",
    "## Dimensionality Reduction\n",
    "\n",
    "### Signal to Noise Ratio(SNR)\n",
    "- In order to determine the strength of a signal it is necessary to calculate what is called the signal-to-noise-ratio (SNR).\n",
    "- The higher the ratio, the easier it becomes to detect a true signal or extract useful information from the raw signal.\n",
    "- Thus, it is defined as the ratio as the power (P) of a signal to the power (P) of the background noise.\n",
    "- The knowledge of this ratio has many important applications in applied mathematics, analytical chemistry, electronics, and the geosciences.\n",
    "- In electronics, signal and noise are measured in decibels, a measure of volume.\n",
    "- In other disciplines, the SNR is also known as the effect size.\n",
    "\n",
    "![image.png](attachment:image.png)"
   ]
  },
  {
   "cell_type": "markdown",
   "id": "1b659ec7",
   "metadata": {},
   "source": [
    "## PCA (Principle Component Analysis)\n",
    "\n",
    "- In simple words, principal component analysis is a method of extracting important variables (in form of components) from a large set of variables available in a data set.\n",
    "- It extracts low dimensional set of features from a high dimensional data set with a motive to capture as much information as possible.\n",
    "- With fewer variables, visualization also becomes much more meaningful.\n",
    "- PCA is more useful when dealing with 3 or higher dimensional data.\n",
    "\n",
    "\n",
    "- Therefore,`First principal component` is a linear combination of original predictor variables which captures the maximum variance in the data set.\n",
    "- It determines the direction of highest variability in the data. Larger the variability captured in first component, larger the information captured by component.\n",
    "- No other component can have variability higher than first principal component.\n",
    "\n",
    "\n",
    "- `Second principal component (Z²)` is also a linear combination of original predictors which captures the remaining variance in the data set and is uncorrelated with Z¹. \n",
    "- In other words, the correlation between first and second component should is zero."
   ]
  },
  {
   "cell_type": "markdown",
   "id": "bf518bd5",
   "metadata": {},
   "source": [
    "- **Eigenvectors**:\n",
    "  - Eigenvectors and Eigenvalues are in itself a big domain, let’s restrict ourselves to the knowledge of the same which we would require here. \n",
    "  - So, consider a non-zero vector v. \n",
    "  - It is an eigenvector of a square matrix A, if Av is a scalar multiple of v.\n",
    "  - Or simply: Av = ƛv\n",
    "  - Here, v is the eigenvector and ƛ is the eigenvalue associated with it.\n",
    "  \n",
    "- **Covariance Matrix**: \n",
    "  - This matrix consists of the covariances between the pairs of variables.\n",
    "  - The (i,j)th element is the covariance between i-th and j-th variable."
   ]
  },
  {
   "cell_type": "markdown",
   "id": "373e9f73",
   "metadata": {},
   "source": [
    "## PCA: algorithm\n",
    " - 1) Subtract mean (Normalize the data)\n",
    " - 2) Calculate the covariance matrix\n",
    " - 3) Calculate eigenvectors and eigenvalues of the covariance matrix\n",
    " - 4) Rank eigenvectors by its corresponding eigenvalues\n",
    " - 5) Obtain P with its column vectors corresponding to the top k eigenvectors"
   ]
  },
  {
   "cell_type": "code",
   "execution_count": 12,
   "id": "40c4f7f0",
   "metadata": {},
   "outputs": [],
   "source": [
    "from sklearn.decomposition import PCA"
   ]
  },
  {
   "cell_type": "markdown",
   "id": "d8e3fa7c",
   "metadata": {},
   "source": [
    "#### Covarience Matrix "
   ]
  },
  {
   "cell_type": "code",
   "execution_count": 13,
   "id": "55dafef1",
   "metadata": {
    "scrolled": true
   },
   "outputs": [
    {
     "data": {
      "text/plain": [
       "array([[ 9.82599844e-01,  1.53577413e-01,  3.09962054e-01,\n",
       "         2.16520476e-01,  1.46913535e-01,  2.47084349e-01,\n",
       "         3.79646644e-02,  1.00009755e-02,  9.34526408e-03,\n",
       "         7.18078680e-03],\n",
       "       [ 1.53577413e-01,  1.00898925e+00,  7.51953149e-02,\n",
       "         2.76713697e-01,  2.76999212e-02,  2.35054746e-01,\n",
       "        -2.20319072e-03,  3.26065024e-02,  1.50406077e-02,\n",
       "         1.23714471e-03],\n",
       "       [ 3.09962054e-01,  7.51953149e-02,  9.48658319e-01,\n",
       "         1.90952970e-01,  1.88821351e-01, -6.45660624e-02,\n",
       "         9.60072933e-03,  1.77070038e-03, -7.52536942e-03,\n",
       "        -5.33400702e-04],\n",
       "       [ 2.16520476e-01,  2.76713697e-01,  1.90952970e-01,\n",
       "         1.00682006e+00,  1.39251341e-01,  4.94156171e-02,\n",
       "        -1.82686429e-03, -5.69162486e-03,  1.00245529e-02,\n",
       "        -3.04251133e-02],\n",
       "       [ 1.46913535e-01,  2.76999212e-02,  1.88821351e-01,\n",
       "         1.39251341e-01,  1.00943551e+00,  3.45298108e-02,\n",
       "         4.32050451e-02,  1.61786814e-02,  2.27894126e-02,\n",
       "         2.55120297e-02],\n",
       "       [ 2.47084349e-01,  2.35054746e-01, -6.45660624e-02,\n",
       "         4.94156171e-02,  3.45298108e-02,  9.90674621e-01,\n",
       "         1.08445162e-02,  3.40615994e-02, -5.18622817e-03,\n",
       "         1.71362603e-02],\n",
       "       [ 3.79646644e-02, -2.20319072e-03,  9.60072933e-03,\n",
       "        -1.82686429e-03,  4.32050451e-02,  1.08445162e-02,\n",
       "         1.00062075e+00, -9.84048082e-03, -1.19604223e-02,\n",
       "        -4.53923277e-03],\n",
       "       [ 1.00009755e-02,  3.26065024e-02,  1.77070038e-03,\n",
       "        -5.69162486e-03,  1.61786814e-02,  3.40615994e-02,\n",
       "        -9.84048082e-03,  1.00504004e+00, -1.29707846e-02,\n",
       "         1.85521162e-02],\n",
       "       [ 9.34526408e-03,  1.50406077e-02, -7.52536942e-03,\n",
       "         1.00245529e-02,  2.27894126e-02, -5.18622817e-03,\n",
       "        -1.19604223e-02, -1.29707846e-02,  9.91612780e-01,\n",
       "        -4.94226987e-04],\n",
       "       [ 7.18078680e-03,  1.23714471e-03, -5.33400702e-04,\n",
       "        -3.04251133e-02,  2.55120297e-02,  1.71362603e-02,\n",
       "        -4.53923277e-03,  1.85521162e-02, -4.94226987e-04,\n",
       "         1.00034558e+00]])"
      ]
     },
     "execution_count": 13,
     "metadata": {},
     "output_type": "execute_result"
    }
   ],
   "source": [
    "cov_Matrix=np.cov(x_train.T)\n",
    "cov_Matrix"
   ]
  },
  {
   "cell_type": "markdown",
   "id": "a84c68da",
   "metadata": {},
   "source": [
    "#### Eigen Vectors"
   ]
  },
  {
   "cell_type": "code",
   "execution_count": 14,
   "id": "783da0e5",
   "metadata": {},
   "outputs": [
    {
     "name": "stdout",
     "output_type": "stream",
     "text": [
      "Eigen Vectors:\n"
     ]
    },
    {
     "data": {
      "text/plain": [
       "array([[ 5.15154080e-01,  4.16037381e-01,  3.87672124e-01,\n",
       "         4.67393705e-01,  3.12678072e-01,  3.00810411e-01,\n",
       "         4.85728062e-02,  4.07583649e-02,  2.20862631e-02,\n",
       "         4.44701746e-03],\n",
       "       [ 4.45027729e-02, -4.44805796e-01,  4.73772743e-01,\n",
       "         5.13647444e-02,  4.25969385e-01, -5.91722055e-01,\n",
       "         1.14959702e-01, -1.64367767e-01,  2.24510367e-02,\n",
       "        -2.73295637e-02],\n",
       "       [-9.93627021e-02,  1.77344548e-01, -5.09714486e-03,\n",
       "         2.92632791e-01, -2.38046387e-01, -1.68151741e-01,\n",
       "        -2.80366939e-01, -5.02423276e-01,  2.07272883e-01,\n",
       "        -6.43489026e-01],\n",
       "       [-8.62911974e-02,  4.15093004e-02,  9.58669580e-02,\n",
       "         1.09807981e-01,  3.45903514e-02, -1.84084924e-01,\n",
       "        -8.03827170e-01,  3.59552679e-01,  2.91208486e-01,\n",
       "         2.72543864e-01],\n",
       "       [ 3.07224882e-02, -8.63986434e-03, -1.18709355e-01,\n",
       "        -1.04661921e-01,  1.03374379e-01,  1.40921265e-01,\n",
       "         1.51502265e-01, -4.38133971e-01,  7.58411311e-01,\n",
       "         3.91520571e-01],\n",
       "       [-6.06437640e-02, -1.80796460e-02, -6.30731507e-02,\n",
       "        -3.12563927e-02,  1.18724033e-01, -2.75880673e-02,\n",
       "         3.02650484e-01,  6.11965780e-01,  5.21818947e-01,\n",
       "        -4.87636476e-01],\n",
       "       [ 3.93013122e-01, -3.97952605e-01,  8.36616519e-02,\n",
       "        -4.78440469e-01,  1.48503338e-01,  4.32508921e-01,\n",
       "        -3.57390819e-01, -9.13218079e-02,  1.26606273e-02,\n",
       "        -3.25460423e-01],\n",
       "       [-3.85341551e-01,  1.03774576e-01, -3.94772958e-01,\n",
       "         8.06989212e-02,  7.72428200e-01,  1.44477822e-01,\n",
       "        -1.26845562e-01, -1.07955827e-01, -1.49280095e-01,\n",
       "        -1.04099730e-01],\n",
       "       [ 1.89195110e-01, -6.12432427e-01, -3.90112532e-01,\n",
       "         6.36050846e-01, -9.71575390e-02,  1.29655563e-01,\n",
       "         9.94843105e-05,  5.61214183e-02,  5.57581657e-03,\n",
       "         5.43359913e-02],\n",
       "       [-6.09879421e-01, -2.26442384e-01,  5.31912000e-01,\n",
       "         1.71183200e-01, -1.00000607e-01,  5.01844160e-01,\n",
       "         3.62347013e-02, -2.73408067e-03,  3.58477250e-02,\n",
       "         9.14896507e-03]])"
      ]
     },
     "execution_count": 14,
     "metadata": {},
     "output_type": "execute_result"
    }
   ],
   "source": [
    "pca=PCA()\n",
    "pca.fit(x_train)\n",
    "\n",
    "print('Eigen Vectors:')\n",
    "pca.components_"
   ]
  },
  {
   "cell_type": "markdown",
   "id": "7d43cad7",
   "metadata": {},
   "source": [
    "#### Eigen Values"
   ]
  },
  {
   "cell_type": "code",
   "execution_count": 15,
   "id": "8e2c924a",
   "metadata": {},
   "outputs": [
    {
     "name": "stdout",
     "output_type": "stream",
     "text": [
      "Eigen Values:\n"
     ]
    },
    {
     "data": {
      "text/plain": [
       "array([1.77461549, 1.17967765, 1.04152749, 1.01481261, 0.99860596,\n",
       "       0.97408732, 0.91442479, 0.84717132, 0.67345651, 0.5264176 ])"
      ]
     },
     "execution_count": 15,
     "metadata": {},
     "output_type": "execute_result"
    }
   ],
   "source": [
    "print('Eigen Values:')\n",
    "pca.explained_variance_"
   ]
  },
  {
   "cell_type": "markdown",
   "id": "0d359a54",
   "metadata": {},
   "source": [
    "#### Project on 2D"
   ]
  },
  {
   "cell_type": "code",
   "execution_count": 16,
   "id": "bce8c48c",
   "metadata": {},
   "outputs": [
    {
     "data": {
      "text/plain": [
       "PCA(n_components=2)"
      ]
     },
     "execution_count": 16,
     "metadata": {},
     "output_type": "execute_result"
    }
   ],
   "source": [
    "pca=PCA(n_components=2)\n",
    "pca.fit(x_train)"
   ]
  },
  {
   "cell_type": "code",
   "execution_count": 17,
   "id": "49679d09",
   "metadata": {},
   "outputs": [
    {
     "data": {
      "text/plain": [
       "array([0.17844663, 0.1186226 ])"
      ]
     },
     "execution_count": 17,
     "metadata": {},
     "output_type": "execute_result"
    }
   ],
   "source": [
    "pca.explained_variance_ratio_"
   ]
  },
  {
   "cell_type": "code",
   "execution_count": 18,
   "id": "b32b9acd",
   "metadata": {},
   "outputs": [
    {
     "name": "stdout",
     "output_type": "stream",
     "text": [
      "Amount of variance explained by 2 components: 29.706923311828042\n"
     ]
    }
   ],
   "source": [
    "print('Amount of variance explained by 2 components:',pca.explained_variance_ratio_.sum()*100)"
   ]
  },
  {
   "cell_type": "code",
   "execution_count": 19,
   "id": "399ba2b2",
   "metadata": {},
   "outputs": [],
   "source": [
    "x_train_pca=pca.fit_transform(x_train)\n",
    "x_test_pca=pca.fit_transform(x_test)"
   ]
  },
  {
   "cell_type": "code",
   "execution_count": 20,
   "id": "9bc178f2",
   "metadata": {},
   "outputs": [
    {
     "name": "stderr",
     "output_type": "stream",
     "text": [
      "c:\\users\\nehal\\anaconda3\\envs\\ml3\\lib\\site-packages\\seaborn\\_decorators.py:43: FutureWarning: Pass the following variables as keyword args: x, y. From version 0.12, the only valid positional argument will be `data`, and passing other arguments without an explicit keyword will result in an error or misinterpretation.\n",
      "  FutureWarning\n"
     ]
    },
    {
     "data": {
      "text/plain": [
       "<AxesSubplot:>"
      ]
     },
     "execution_count": 20,
     "metadata": {},
     "output_type": "execute_result"
    },
    {
     "data": {
      "image/png": "[encoded data removed]",
      "text/plain": [
       "<Figure size 432x288 with 1 Axes>"
      ]
     },
     "metadata": {
      "needs_background": "light"
     },
     "output_type": "display_data"
    }
   ],
   "source": [
    "sns.scatterplot(x_train_pca[:,0],x_train_pca[:,1],hue=y_train)"
   ]
  },
  {
   "cell_type": "code",
   "execution_count": 21,
   "id": "ce6487b0",
   "metadata": {},
   "outputs": [
    {
     "data": {
      "text/plain": [
       "<AxesSubplot:>"
      ]
     },
     "execution_count": 21,
     "metadata": {},
     "output_type": "execute_result"
    },
    {
     "data": {
      "image/png": "[encoded data removed]",
      "text/plain": [
       "<Figure size 432x288 with 1 Axes>"
      ]
     },
     "metadata": {
      "needs_background": "light"
     },
     "output_type": "display_data"
    }
   ],
   "source": [
    "sns.scatterplot(x=x_test_pca[:,0],y=x_test_pca[:,1],hue=y_test)"
   ]
  },
  {
   "cell_type": "code",
   "execution_count": 22,
   "id": "62dc55c0",
   "metadata": {
    "scrolled": true
   },
   "outputs": [
    {
     "data": {
      "text/plain": [
       "array([ 17.84466327,  29.70692331,  40.1800131 ,  50.38447108,\n",
       "        60.42596296,  70.22090746,  79.41591478,  87.93465422,\n",
       "        94.70660271, 100.        ])"
      ]
     },
     "execution_count": 22,
     "metadata": {},
     "output_type": "execute_result"
    }
   ],
   "source": [
    "pca=PCA()\n",
    "pca.fit(x_train)\n",
    "np.cumsum(pca.explained_variance_ratio_)*100"
   ]
  },
  {
   "cell_type": "code",
   "execution_count": 28,
   "id": "6b1521da",
   "metadata": {
    "scrolled": true
   },
   "outputs": [
    {
     "data": {
      "text/plain": [
       "<BarContainer object of 10 artists>"
      ]
     },
     "execution_count": 28,
     "metadata": {},
     "output_type": "execute_result"
    },
    {
     "data": {
      "image/png": "[encoded data removed]",
      "text/plain": [
       "<Figure size 432x288 with 1 Axes>"
      ]
     },
     "metadata": {
      "needs_background": "light"
     },
     "output_type": "display_data"
    }
   ],
   "source": [
    "plt.step(range(len(np.cumsum(pca.explained_variance_ratio_))),np.cumsum(pca.explained_variance_ratio_))\n",
    "plt.bar(range(len(pca.explained_variance_ratio_)),pca.explained_variance_ratio_)"
   ]
  },
  {
   "cell_type": "code",
   "execution_count": null,
   "id": "d2a80581",
   "metadata": {},
   "outputs": [],
   "source": []
  },
  {
   "cell_type": "markdown",
   "id": "c403f9bd",
   "metadata": {},
   "source": [
    "## Linear Discriminant analysis"
   ]
  },
  {
   "cell_type": "code",
   "execution_count": 24,
   "id": "6290b846",
   "metadata": {},
   "outputs": [],
   "source": [
    "from sklearn.discriminant_analysis import LinearDiscriminantAnalysis"
   ]
  },
  {
   "cell_type": "code",
   "execution_count": 25,
   "id": "43eb70d5",
   "metadata": {},
   "outputs": [],
   "source": [
    "lda=LinearDiscriminantAnalysis()\n",
    "lda.fit(x_train,y_train)\n",
    "\n",
    "pred_train=lda.predict(x_train)\n",
    "pred_test=lda.predict(x_test)\n",
    "\n"
   ]
  },
  {
   "cell_type": "markdown",
   "id": "db04e54a",
   "metadata": {},
   "source": [
    "## Kernel PCA "
   ]
  },
  {
   "cell_type": "markdown",
   "id": "599a16da",
   "metadata": {},
   "source": [
    "# MCA"
   ]
  },
  {
   "cell_type": "markdown",
   "id": "a294b0f2",
   "metadata": {},
   "source": [
    "## LDA"
   ]
  },
  {
   "cell_type": "markdown",
   "id": "4417666f",
   "metadata": {},
   "source": [
    "## SVD"
   ]
  },
  {
   "cell_type": "code",
   "execution_count": null,
   "id": "71b3d970",
   "metadata": {},
   "outputs": [],
   "source": []
  },
  {
   "cell_type": "code",
   "execution_count": null,
   "id": "55f3e0c6",
   "metadata": {},
   "outputs": [],
   "source": []
  }
 ],
 "metadata": {
  "kernelspec": {
   "display_name": "Python 3",
   "language": "python",
   "name": "python3"
  },
  "language_info": {
   "codemirror_mode": {
    "name": "ipython",
    "version": 3
   },
   "file_extension": ".py",
   "mimetype": "text/x-python",
   "name": "python",
   "nbconvert_exporter": "python",
   "pygments_lexer": "ipython3",
   "version": "3.6.13"
  }
 },
 "nbformat": 4,
 "nbformat_minor": 5
}
